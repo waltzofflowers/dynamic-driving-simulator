{
 "cells": [
  {
   "cell_type": "code",
   "execution_count": null,
   "id": "b0785bd0",
   "metadata": {},
   "outputs": [],
   "source": [
    "import uuid\n",
    "import random\n",
    "from datetime import datetime, timedelta\n",
    "import math\n",
    "import time\n",
    "import requests\n",
    "\n",
    "acceleration = 7.72 # max acceleration 0 to 100 km/h in 3.6 seconds\n",
    "deceleration = 5  # Normally it is 2.5 m/s^2 but for simulating purposes since only its gonna speed up we can increase the deceleration some portion.\n",
    "# Deceleration is the avg backward acceleration\n",
    "\n",
    "start_speed = 0 # Start speed 0 km/h\n",
    "speed_update_seconds = 1 # its not getting used but we designed with the idea of it\n",
    "\n",
    "# Istanbul Coordinates\n",
    "start_location = {\"latitude\" : 41.0082, \"longitude\" : 28.9784}\n",
    "start_time = datetime.now()\n",
    "\n",
    "device_id = uuid.uuid4()\n",
    "\n",
    "speed = 0\n",
    "\n",
    "OpenWeather_API_KEY = \"get_api_key\" # Check the planning. You can use 1000 requests per day freely."
   ]
  },
  {
   "cell_type": "code",
   "execution_count": 2,
   "id": "bc7a0582",
   "metadata": {},
   "outputs": [],
   "source": [
    "def get_speed_change():\n",
    "    is_speeding = random.choice([True, False])\n",
    "\n",
    "    if is_speeding:\n",
    "        return random.uniform(0, acceleration)\n",
    "    else:\n",
    "        return -random.uniform(0, deceleration)"
   ]
  },
  {
   "cell_type": "code",
   "execution_count": null,
   "id": "439a935d",
   "metadata": {},
   "outputs": [],
   "source": [
    "def get_direction(): ## Lets assume that the rotation and angle values are coming from sensors that updates the absolute location.\n",
    "\n",
    "    random_x = random.choice(['E', 'W', 'None'])  # Randomly choose East or West\n",
    "    random_y = random.choice(['N', 'S', 'None'])  # Randomly choose North or South\n",
    "    angle = random.uniform(0, 360)\n",
    "    return [random_x, random_y, angle]"
   ]
  },
  {
   "cell_type": "code",
   "execution_count": 4,
   "id": "31baab8b",
   "metadata": {},
   "outputs": [],
   "source": [
    "def simulate_vehicle_movement(speed):\n",
    "    global start_location\n",
    "    \n",
    "    direction = get_direction()\n",
    "    \n",
    "    speed_m_s = speed / 3.6 # Convert km/h to m/sn\n",
    "\n",
    "    direction_x, direction_y = direction[0], direction[1]\n",
    "\n",
    "    angle_radians = math.radians(direction[2])\n",
    "\n",
    "    horizontal = speed_m_s * math.cos(angle_radians)\n",
    "    vertical = speed_m_s * math.sin(angle_radians)\n",
    "    \n",
    "    # Calculate the change in latitude and longitude\n",
    "    if direction_x == 'E':\n",
    "        start_location['longitude'] += horizontal / (111320 * math.cos(math.radians(start_location['latitude'])))\n",
    "    elif direction_x == 'W':\n",
    "        start_location['longitude'] -= horizontal / (111320 * math.cos(math.radians(start_location['latitude'])))\n",
    "    \n",
    "    if direction_y == 'N':\n",
    "        start_location['latitude'] += vertical / (111320)\n",
    "    elif direction_y == 'S':\n",
    "        start_location['latitude'] -= vertical / (111320)\n",
    "    \n",
    "    return start_location"
   ]
  },
  {
   "cell_type": "code",
   "execution_count": 5,
   "id": "95104824",
   "metadata": {},
   "outputs": [],
   "source": [
    "def generate_vehicle_data(device_id, timestamp):\n",
    "    global start_time, start_speed\n",
    "\n",
    "    speed_change = get_speed_change()\n",
    "    start_speed = start_speed + speed_change\n",
    "\n",
    "    if start_speed >= 250:\n",
    "        start_speed = 250\n",
    "    \n",
    "    if start_speed < (-deceleration):\n",
    "        start_speed = (-deceleration)\n",
    "    \n",
    "\n",
    "    \n",
    "    # Generate and return the vehicle data dictionary\n",
    "    return {\n",
    "        'deviceId': str(device_id),\n",
    "        'timestamp': timestamp,\n",
    "        'direction': [get_direction()[0], get_direction()[1]],\n",
    "        'speed': start_speed,\n",
    "        'fuelType': \"Hybrid\",\n",
    "        'brand': 'Audi',\n",
    "        'model': 'RS7',\n",
    "        'engineType': 'V8',\n",
    "    }"
   ]
  },
  {
   "cell_type": "code",
   "execution_count": 6,
   "id": "26eb899b",
   "metadata": {},
   "outputs": [],
   "source": [
    "def get_gps_data(speed, device_id, timestamp):\n",
    "\n",
    "    location = simulate_vehicle_movement(speed)\n",
    "\n",
    "    return {\n",
    "        'deviceId': str(device_id),\n",
    "        'timestamp': timestamp,\n",
    "        'latitude': location['latitude'],\n",
    "        'longitude': location['longitude']\n",
    "    }"
   ]
  },
  {
   "cell_type": "code",
   "execution_count": 7,
   "id": "8685ddec",
   "metadata": {},
   "outputs": [],
   "source": [
    "def get_weather_data(latitude, longitude, timestamp):\n",
    "    url = f\"https://api.openweathermap.org/data/2.5/weather?lat={latitude}&lon={longitude}&appid={OpenWeather_API_KEY}\"\n",
    "\n",
    "    response = requests.get(url)\n",
    "    data = response.json()\n",
    "\n",
    "    kelvin_temp = data['main']['temp']\n",
    "\n",
    "    celcius_temp = kelvin_temp - 273.15\n",
    "\n",
    "    return {\n",
    "        'timestamp': timestamp,\n",
    "        'temperature': celcius_temp,\n",
    "        'humidity': data['main']['humidity'],\n",
    "        'wind_speed': data['wind']['speed']\n",
    "    }"
   ]
  },
  {
   "cell_type": "code",
   "execution_count": 8,
   "id": "3d64e829",
   "metadata": {},
   "outputs": [],
   "source": [
    "def simulate_vehicle_data(device_id):\n",
    "    try:\n",
    "        while True:\n",
    "            timestamp = (datetime.now() + timedelta(seconds=1)).strftime(\"%H:%M:%S\")\n",
    "\n",
    "            vehicle_data = generate_vehicle_data(device_id, timestamp)\n",
    "\n",
    "            gps_data_send = get_gps_data(vehicle_data['speed'], device_id, timestamp)\n",
    "\n",
    "            weather_data_send = get_weather_data(gps_data_send['latitude'], gps_data_send['longitude'], timestamp)\n",
    "\n",
    "            print(\"Vehicle Data:\", vehicle_data)\n",
    "            # print(\"Speed Data:\", vehicle_data['speed'])\n",
    "            print(\"GPS Data:\", gps_data_send)\n",
    "            print(\"Weather Data:\", weather_data_send)\n",
    "\n",
    "            time.sleep(1)\n",
    "    except KeyboardInterrupt:\n",
    "        print(\"\\nSimulation stopped by user.\")"
   ]
  },
  {
   "cell_type": "code",
   "execution_count": null,
   "id": "433ac872",
   "metadata": {},
   "outputs": [],
   "source": [
    "simulate_vehicle_data(device_id)"
   ]
  },
  {
   "cell_type": "code",
   "execution_count": null,
   "id": "87a9b1a8",
   "metadata": {},
   "outputs": [],
   "source": []
  }
 ],
 "metadata": {
  "kernelspec": {
   "display_name": "Python 3",
   "language": "python",
   "name": "python3"
  },
  "language_info": {
   "codemirror_mode": {
    "name": "ipython",
    "version": 3
   },
   "file_extension": ".py",
   "mimetype": "text/x-python",
   "name": "python",
   "nbconvert_exporter": "python",
   "pygments_lexer": "ipython3",
   "version": "3.11.5"
  }
 },
 "nbformat": 4,
 "nbformat_minor": 5
}
